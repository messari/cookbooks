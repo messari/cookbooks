{
 "cells": [
  {
   "cell_type": "markdown",
   "metadata": {},
   "source": [
    "# Algotrade Sentiment with Messari\n",
    "\n",
    "**Description**: This example demonstrates how to use the Messari API to retrieve news and market data for a list of assets, and then use the news to generate sentiment scores for each asset.\n",
    " \n",
    " **Prerequisites**\n",
    " - Python 3.8 or higher\n",
    " - A Messari API key (get one at https://messari.io)\n",
    " \n",
    "**Setup Steps**\n",
    " 1. Install the required packages:\n",
    "    ```bash\n",
    "    pip install aiohttp==3.11.4 pandas==2.2.3 requests==2.32.3 tqdm==4.67.0 python-dotenv==1.0.1 plotly==5.24.1 nbformat>=4.2.0\n",
    "    ```\n",
    " \n",
    " 2. Configure your API key by creating a `.env` file in the project root folder:\n",
    "    ```bash\n",
    "    cp .env.template .env # Remember to update the .env file with your API key\n",
    "    ```\n",
    "\n",
    "This code is adapted from the `01_fetch_data.py` and `02_metrics_and_charting.py` script in the `cookbooks/examples/algotrade_sentiment` directory. Some of the code has been modified to run in a Jupyter Notebook environment."
   ]
  },
  {
   "cell_type": "code",
   "execution_count": null,
   "metadata": {},
   "outputs": [],
   "source": [
    "!pip install aiohttp==3.11.4 pandas==2.2.3 requests==2.32.3 tqdm==4.67.0 python-dotenv==1.0.1 plotly==5.24.1 nbformat>=4.2.0"
   ]
  },
  {
   "cell_type": "code",
   "execution_count": 31,
   "metadata": {},
   "outputs": [],
   "source": [
    "from dotenv import load_dotenv\n",
    "import warnings\n",
    "import pandas as pd\n",
    "\n",
    "load_dotenv()  # This loads the .env file from your project root\n",
    "warnings.filterwarnings(\"ignore\", category=FutureWarning)\n",
    "warnings.filterwarnings(\"ignore\", category=pd.errors.SettingWithCopyWarning)"
   ]
  },
  {
   "cell_type": "markdown",
   "metadata": {},
   "source": [
    "# `01_fetch_data.py`"
   ]
  },
  {
   "cell_type": "code",
   "execution_count": 2,
   "metadata": {},
   "outputs": [
    {
     "name": "stdout",
     "output_type": "stream",
     "text": [
      "⏰ Time window:\n",
      "  Start: 2024-10-23 16:26:50\n",
      "  End:   2024-11-20 16:26:50\n"
     ]
    }
   ],
   "source": [
    "import asyncio\n",
    "import datetime\n",
    "import os\n",
    "\n",
    "import aiohttp\n",
    "import numpy as np\n",
    "import pandas as pd\n",
    "import requests\n",
    "from tqdm.asyncio import tqdm\n",
    "import nest_asyncio\n",
    "\n",
    "########################\n",
    "# 0. SETUP & CONFIGURATION\n",
    "########################\n",
    "\n",
    "# Variables\n",
    "MESSARI_API_KEY = os.getenv(\"MESSARI_API_KEY\")\n",
    "LOOKBACK_DAYS = 28  # Number of days to lookback for news and market data. Increase this to get more historical data.\n",
    "OUTPUT_FILEPATH = \"output/data.csv\"\n",
    "SEM_VALUE = 10\n",
    "\n",
    "# Constants\n",
    "MESSARI_BASE_URL = \"https://api.messari.io\"\n",
    "NEWS_API_URL = f\"{MESSARI_BASE_URL}/news/v1/news/feed\"\n",
    "MARKET_DATA_BASE_API_URL = f\"{MESSARI_BASE_URL}/marketdata/v1/assets\"\n",
    "HEADERS = {\"accept\": \"application/json\", \"x-messari-api-key\": MESSARI_API_KEY}\n",
    "\n",
    "SECONDS_IN_A_DAY = 86400\n",
    "END_TIMESTAMP_S = int(datetime.datetime.now().timestamp())\n",
    "START_TIMESTAMP_S = END_TIMESTAMP_S - (SECONDS_IN_A_DAY * LOOKBACK_DAYS)\n",
    "END_TIMESTAMP_MS = END_TIMESTAMP_S * 1000\n",
    "START_TIMESTAMP_MS = START_TIMESTAMP_S * 1000\n",
    "\n",
    "print(\n",
    "    f\"⏰ Time window:\\n\"\n",
    "    f\"  Start: {datetime.datetime.fromtimestamp(START_TIMESTAMP_S).strftime('%Y-%m-%d %H:%M:%S')}\\n\"\n",
    "    f\"  End:   {datetime.datetime.fromtimestamp(END_TIMESTAMP_S).strftime('%Y-%m-%d %H:%M:%S')}\"\n",
    ")\n",
    "\n",
    "\n",
    "if not MESSARI_API_KEY:\n",
    "    raise ValueError(\n",
    "        \"MESSARI_API_KEY environment variable is not set. Please create a .env file in the root directory. You can find an example in .env.template\"\n",
    "    )"
   ]
  },
  {
   "cell_type": "markdown",
   "metadata": {},
   "source": [
    "## 1. FUNCTIONS USED FOR DATA RETRIEVAL AND PROCESSING\n",
    "\n",
    "### 1.1 News\n",
    "\n",
    "Fetch news articles from Messari's Feed API endpoint within the specified time range.\n",
    "Documentation: https://docs.messari.io/reference/feed\n",
    "\n",
    "### 1.2 Market Data\n",
    "\n",
    "Fetch market data for a list of assets from the Messari API.\n",
    "Documentation: https://docs.messari.io/reference/timeseries-by-asset-id\n",
    "\n",
    "### 1.3 Utils"
   ]
  },
  {
   "cell_type": "code",
   "execution_count": 3,
   "metadata": {},
   "outputs": [],
   "source": [
    "########################\n",
    "# 1. NEWS DATA FUNCTIONS\n",
    "########################\n",
    "async def fetch_single_news_page(\n",
    "    session: aiohttp.ClientSession,\n",
    "    sem: asyncio.Semaphore,\n",
    "    page: int,\n",
    "    start_timestamp: int,\n",
    "    end_timestamp: int,\n",
    ") -> pd.DataFrame:\n",
    "    \"\"\"Fetches a single page of news from Messari API\"\"\"\n",
    "    params = {\n",
    "        \"sort\": 1,\n",
    "        \"publishedBefore\": end_timestamp,\n",
    "        \"publishedAfter\": start_timestamp,\n",
    "        \"limit\": 100,\n",
    "        \"page\": page,\n",
    "    }\n",
    "\n",
    "    async with sem:\n",
    "        await asyncio.sleep(1)  # Rate limiting\n",
    "        async with session.get(\n",
    "            NEWS_API_URL, headers=HEADERS, params=params\n",
    "        ) as response:\n",
    "            return pd.DataFrame((await response.json())[\"data\"])\n",
    "\n",
    "\n",
    "async def fetch_all_news_pages(\n",
    "    pages: list[int], sem_value: int, start_timestamp: int, end_timestamp: int\n",
    ") -> pd.DataFrame:\n",
    "    \"\"\"Fetches all news pages concurrently\"\"\"\n",
    "    sem = asyncio.Semaphore(sem_value)\n",
    "    async with aiohttp.ClientSession() as session:\n",
    "        tasks = [\n",
    "            fetch_single_news_page(session, sem, page, start_timestamp, end_timestamp)\n",
    "            for page in pages\n",
    "        ]\n",
    "        results = await tqdm.gather(*tasks, desc=\"Fetching news pages\")\n",
    "    return pd.concat(results)\n",
    "\n",
    "\n",
    "def process_news_data(\n",
    "    news_df: pd.DataFrame,\n",
    ") -> tuple[pd.DataFrame, np.ndarray, np.ndarray]:\n",
    "    \"\"\"Process raw news data into required format\"\"\"\n",
    "    # Convert timestamp and clean unnecessary columns\n",
    "    news_df[\"date\"] = pd.to_datetime(news_df[\"publishTimeMillis\"], unit=\"ms\").dt.date\n",
    "    news_df = news_df.drop(columns=[\"publishTimeMillis\"])\n",
    "\n",
    "    # Filter and process asset-related news\n",
    "    news_df = news_df[news_df[\"assets\"].notna()].explode(\"assets\")\n",
    "\n",
    "    # Extract asset information\n",
    "    news_df[\"asset_id\"] = news_df[\"assets\"].apply(lambda x: x[\"id\"])\n",
    "    news_df[\"asset_name\"] = news_df[\"assets\"].apply(lambda x: x[\"name\"])\n",
    "    news_df = news_df.drop(columns=[\"assets\"])\n",
    "\n",
    "    # Clean text fields\n",
    "    for col in [\"title\", \"description\", \"url\"]:\n",
    "        news_df[col] = news_df[col].fillna(\"None\")\n",
    "\n",
    "    # Group by asset and date\n",
    "    grouped_df = news_df.groupby([\"asset_id\", \"asset_name\", \"date\"]).agg(\n",
    "        {\"title\": list, \"description\": list, \"url\": list}\n",
    "    )\n",
    "    grouped_df[\"count\"] = grouped_df[\"title\"].apply(len)\n",
    "\n",
    "    return (\n",
    "        grouped_df.reset_index(),\n",
    "        news_df[\"asset_id\"].unique(),\n",
    "        news_df[\"date\"].unique(),\n",
    "    )\n",
    "\n",
    "\n",
    "########################\n",
    "# 2. MARKET DATA FUNCTIONS\n",
    "########################\n",
    "async def fetch_single_asset_market_data(\n",
    "    session: aiohttp.ClientSession,\n",
    "    sem: asyncio.Semaphore,\n",
    "    asset_id: str,\n",
    "    start_timestamp: int,\n",
    "    end_timestamp: int,\n",
    ") -> pd.DataFrame:\n",
    "    \"\"\"Fetches market data for a single asset\"\"\"\n",
    "    url = f\"{MARKET_DATA_BASE_API_URL}/{asset_id}/price/time-series\"\n",
    "    params = {\"interval\": \"1d\", \"startTime\": start_timestamp, \"endTime\": end_timestamp}\n",
    "\n",
    "    async with sem:\n",
    "        await asyncio.sleep(1)  # Rate limiting\n",
    "        async with session.get(url, headers=HEADERS, params=params) as response:\n",
    "            data = await response.json()\n",
    "            if not data:\n",
    "                return pd.DataFrame()\n",
    "\n",
    "            df = pd.DataFrame(data[\"data\"])\n",
    "            df[\"asset_id\"] = asset_id\n",
    "            return df\n",
    "\n",
    "\n",
    "async def fetch_all_market_data(\n",
    "    asset_ids: np.ndarray, sem_value: int, start_timestamp: int, end_timestamp: int\n",
    ") -> pd.DataFrame:\n",
    "    \"\"\"Fetches market data for all assets concurrently\"\"\"\n",
    "    sem = asyncio.Semaphore(sem_value)\n",
    "    async with aiohttp.ClientSession() as session:\n",
    "        tasks = [\n",
    "            fetch_single_asset_market_data(\n",
    "                session, sem, asset_id, start_timestamp, end_timestamp\n",
    "            )\n",
    "            for asset_id in asset_ids\n",
    "        ]\n",
    "        results = await tqdm.gather(*tasks, desc=\"Fetching market data\")\n",
    "\n",
    "    df = pd.concat(results)\n",
    "    df[\"date\"] = pd.to_datetime(df[\"timestamp\"], unit=\"s\").dt.date\n",
    "    return df[[\"date\", \"asset_id\", \"close\"]]\n",
    "\n",
    "\n",
    "########################\n",
    "# 3. UTILS\n",
    "########################\n",
    "def ensure_output_directory(fp: str):\n",
    "    os.makedirs(os.path.dirname(fp), exist_ok=True)"
   ]
  },
  {
   "cell_type": "markdown",
   "metadata": {},
   "source": [
    "# Main Execution\n",
    "\n",
    "This is similar to the `main` function in the `01_fetch_data.py` script."
   ]
  },
  {
   "cell_type": "code",
   "execution_count": 4,
   "metadata": {},
   "outputs": [
    {
     "name": "stderr",
     "output_type": "stream",
     "text": [
      "Fetching news pages: 100%|██████████| 131/131 [00:40<00:00,  3.25it/s]\n"
     ]
    },
    {
     "data": {
      "text/html": [
       "<div>\n",
       "<style scoped>\n",
       "    .dataframe tbody tr th:only-of-type {\n",
       "        vertical-align: middle;\n",
       "    }\n",
       "\n",
       "    .dataframe tbody tr th {\n",
       "        vertical-align: top;\n",
       "    }\n",
       "\n",
       "    .dataframe thead th {\n",
       "        text-align: right;\n",
       "    }\n",
       "</style>\n",
       "<table border=\"1\" class=\"dataframe\">\n",
       "  <thead>\n",
       "    <tr style=\"text-align: right;\">\n",
       "      <th></th>\n",
       "      <th>asset_id</th>\n",
       "      <th>asset_name</th>\n",
       "      <th>date</th>\n",
       "      <th>title</th>\n",
       "      <th>description</th>\n",
       "      <th>url</th>\n",
       "      <th>count</th>\n",
       "    </tr>\n",
       "  </thead>\n",
       "  <tbody>\n",
       "    <tr>\n",
       "      <th>0</th>\n",
       "      <td>0018b9a5-f16d-440b-a617-a7c52ae2fc42</td>\n",
       "      <td>Voltage</td>\n",
       "      <td>2024-10-29</td>\n",
       "      <td>[Lessons Learned, Future Defined — A Community...</td>\n",
       "      <td>[None]</td>\n",
       "      <td>[https://medium.com/@voltage.finance/lessons-l...</td>\n",
       "      <td>1</td>\n",
       "    </tr>\n",
       "    <tr>\n",
       "      <th>1</th>\n",
       "      <td>007fe708-6ace-499b-a999-dcaa45e0eaf5</td>\n",
       "      <td>Zilliqa</td>\n",
       "      <td>2024-10-23</td>\n",
       "      <td>[Web3Auth is now integrated with Zilliqa EVM]</td>\n",
       "      <td>[None]</td>\n",
       "      <td>[https://blog.zilliqa.com/web3auth-is-now-inte...</td>\n",
       "      <td>1</td>\n",
       "    </tr>\n",
       "    <tr>\n",
       "      <th>2</th>\n",
       "      <td>007fe708-6ace-499b-a999-dcaa45e0eaf5</td>\n",
       "      <td>Zilliqa</td>\n",
       "      <td>2024-10-28</td>\n",
       "      <td>[Jasper proto-testnet showcases Zilliqa 2.0 pe...</td>\n",
       "      <td>[None]</td>\n",
       "      <td>[https://blog.zilliqa.com/jasper-proto-testnet...</td>\n",
       "      <td>1</td>\n",
       "    </tr>\n",
       "    <tr>\n",
       "      <th>3</th>\n",
       "      <td>007fe708-6ace-499b-a999-dcaa45e0eaf5</td>\n",
       "      <td>Zilliqa</td>\n",
       "      <td>2024-10-30</td>\n",
       "      <td>[Zilliqa’s Mission to Unlock Web3 for All]</td>\n",
       "      <td>[None]</td>\n",
       "      <td>[https://blog.zilliqa.com/zilliqas-mission-to-...</td>\n",
       "      <td>1</td>\n",
       "    </tr>\n",
       "    <tr>\n",
       "      <th>4</th>\n",
       "      <td>007fe708-6ace-499b-a999-dcaa45e0eaf5</td>\n",
       "      <td>Zilliqa</td>\n",
       "      <td>2024-11-01</td>\n",
       "      <td>[Zilliqa Monthly Newsletter - October 2024]</td>\n",
       "      <td>[None]</td>\n",
       "      <td>[https://blog.zilliqa.com/zilliqa-monthly-news...</td>\n",
       "      <td>1</td>\n",
       "    </tr>\n",
       "  </tbody>\n",
       "</table>\n",
       "</div>"
      ],
      "text/plain": [
       "                               asset_id asset_name        date  \\\n",
       "0  0018b9a5-f16d-440b-a617-a7c52ae2fc42    Voltage  2024-10-29   \n",
       "1  007fe708-6ace-499b-a999-dcaa45e0eaf5    Zilliqa  2024-10-23   \n",
       "2  007fe708-6ace-499b-a999-dcaa45e0eaf5    Zilliqa  2024-10-28   \n",
       "3  007fe708-6ace-499b-a999-dcaa45e0eaf5    Zilliqa  2024-10-30   \n",
       "4  007fe708-6ace-499b-a999-dcaa45e0eaf5    Zilliqa  2024-11-01   \n",
       "\n",
       "                                               title description  \\\n",
       "0  [Lessons Learned, Future Defined — A Community...      [None]   \n",
       "1      [Web3Auth is now integrated with Zilliqa EVM]      [None]   \n",
       "2  [Jasper proto-testnet showcases Zilliqa 2.0 pe...      [None]   \n",
       "3         [Zilliqa’s Mission to Unlock Web3 for All]      [None]   \n",
       "4        [Zilliqa Monthly Newsletter - October 2024]      [None]   \n",
       "\n",
       "                                                 url  count  \n",
       "0  [https://medium.com/@voltage.finance/lessons-l...      1  \n",
       "1  [https://blog.zilliqa.com/web3auth-is-now-inte...      1  \n",
       "2  [https://blog.zilliqa.com/jasper-proto-testnet...      1  \n",
       "3  [https://blog.zilliqa.com/zilliqas-mission-to-...      1  \n",
       "4  [https://blog.zilliqa.com/zilliqa-monthly-news...      1  "
      ]
     },
     "execution_count": 4,
     "metadata": {},
     "output_type": "execute_result"
    }
   ],
   "source": [
    "########################\n",
    "# 4. MAIN EXECUTION\n",
    "########################\n",
    "\n",
    "# 1. Fetch News Data\n",
    "# Get total pages from initial request\n",
    "response = requests.get(\n",
    "    NEWS_API_URL,\n",
    "    headers=HEADERS,\n",
    "    params={\n",
    "        \"sort\": 1,\n",
    "        \"publishedBefore\": END_TIMESTAMP_MS,\n",
    "        \"publishedAfter\": START_TIMESTAMP_MS,\n",
    "        \"limit\": 100,\n",
    "        \"page\": 1,\n",
    "    },\n",
    ").json()\n",
    "total_pages = response[\"metadata\"][\"totalPages\"]\n",
    "\n",
    "# Fetch and process all news\n",
    "nest_asyncio.apply()\n",
    "loop = asyncio.get_event_loop()\n",
    "news_df = loop.run_until_complete(\n",
    "    fetch_all_news_pages(\n",
    "        pages=range(1, total_pages + 1),\n",
    "        sem_value=SEM_VALUE,\n",
    "        start_timestamp=START_TIMESTAMP_MS,\n",
    "        end_timestamp=END_TIMESTAMP_MS,\n",
    "    )\n",
    ")\n",
    "processed_news_df, unique_asset_ids, unique_dates = process_news_data(news_df)\n",
    "processed_news_df.head()"
   ]
  },
  {
   "cell_type": "code",
   "execution_count": 5,
   "metadata": {},
   "outputs": [
    {
     "name": "stdout",
     "output_type": "stream",
     "text": [
      "Number of unique asset IDs: 2153\n",
      "Sample of first 5 asset IDs:\n",
      "['2db6b38a-681a-4514-9d67-691e319597ee'\n",
      " '977dd0e0-b9c3-4a21-89a7-6762c964c138'\n",
      " 'e0a59438-233e-4d36-b5e2-93834165c3db'\n",
      " '157f4fe3-6046-4b6d-bceb-a2af8ca021b5'\n",
      " '1d51479d-68f6-4886-8644-2a55ea9007bf']\n",
      "\n",
      "Number of unique dates: 29\n",
      "Sample of first 5 dates:\n",
      "[datetime.date(2024, 10, 23) datetime.date(2024, 10, 24)\n",
      " datetime.date(2024, 10, 25) datetime.date(2024, 10, 26)\n",
      " datetime.date(2024, 10, 27)]\n"
     ]
    }
   ],
   "source": [
    "print(\"Number of unique asset IDs:\", len(unique_asset_ids))\n",
    "print(\"Sample of first 5 asset IDs:\")\n",
    "print(unique_asset_ids[:5])\n",
    "print(\"\\nNumber of unique dates:\", len(unique_dates))\n",
    "print(\"Sample of first 5 dates:\")\n",
    "print(unique_dates[:5])"
   ]
  },
  {
   "cell_type": "code",
   "execution_count": 6,
   "metadata": {},
   "outputs": [
    {
     "name": "stderr",
     "output_type": "stream",
     "text": [
      "Fetching market data:   0%|          | 0/2153 [00:00<?, ?it/s]"
     ]
    },
    {
     "name": "stderr",
     "output_type": "stream",
     "text": [
      "Fetching market data: 100%|██████████| 2153/2153 [06:56<00:00,  5.17it/s]\n"
     ]
    },
    {
     "name": "stdout",
     "output_type": "stream",
     "text": [
      "Data exported to output/data.csv\n"
     ]
    }
   ],
   "source": [
    "# 2. Fetch Market Data\n",
    "market_df = loop.run_until_complete(\n",
    "    fetch_all_market_data(\n",
    "        asset_ids=unique_asset_ids,\n",
    "        sem_value=SEM_VALUE,\n",
    "        start_timestamp=START_TIMESTAMP_S,\n",
    "        end_timestamp=END_TIMESTAMP_S,\n",
    "    )\n",
    ")\n",
    "\n",
    "# 3. Merge and Export\n",
    "final_df = pd.merge(processed_news_df, market_df, on=[\"asset_id\", \"date\"], how=\"left\")\n",
    "ensure_output_directory(OUTPUT_FILEPATH)\n",
    "final_df.to_csv(OUTPUT_FILEPATH, index=False)\n",
    "print(f\"Data exported to {OUTPUT_FILEPATH}\")"
   ]
  },
  {
   "cell_type": "code",
   "execution_count": 9,
   "metadata": {},
   "outputs": [
    {
     "data": {
      "text/html": [
       "<div>\n",
       "<style scoped>\n",
       "    .dataframe tbody tr th:only-of-type {\n",
       "        vertical-align: middle;\n",
       "    }\n",
       "\n",
       "    .dataframe tbody tr th {\n",
       "        vertical-align: top;\n",
       "    }\n",
       "\n",
       "    .dataframe thead th {\n",
       "        text-align: right;\n",
       "    }\n",
       "</style>\n",
       "<table border=\"1\" class=\"dataframe\">\n",
       "  <thead>\n",
       "    <tr style=\"text-align: right;\">\n",
       "      <th></th>\n",
       "      <th>date</th>\n",
       "      <th>asset_id</th>\n",
       "      <th>close</th>\n",
       "    </tr>\n",
       "  </thead>\n",
       "  <tbody>\n",
       "    <tr>\n",
       "      <th>0</th>\n",
       "      <td>2024-10-24</td>\n",
       "      <td>2db6b38a-681a-4514-9d67-691e319597ee</td>\n",
       "      <td>26.824577</td>\n",
       "    </tr>\n",
       "    <tr>\n",
       "      <th>1</th>\n",
       "      <td>2024-10-25</td>\n",
       "      <td>2db6b38a-681a-4514-9d67-691e319597ee</td>\n",
       "      <td>24.895794</td>\n",
       "    </tr>\n",
       "    <tr>\n",
       "      <th>2</th>\n",
       "      <td>2024-10-26</td>\n",
       "      <td>2db6b38a-681a-4514-9d67-691e319597ee</td>\n",
       "      <td>25.377741</td>\n",
       "    </tr>\n",
       "    <tr>\n",
       "      <th>3</th>\n",
       "      <td>2024-10-27</td>\n",
       "      <td>2db6b38a-681a-4514-9d67-691e319597ee</td>\n",
       "      <td>25.749116</td>\n",
       "    </tr>\n",
       "    <tr>\n",
       "      <th>4</th>\n",
       "      <td>2024-10-28</td>\n",
       "      <td>2db6b38a-681a-4514-9d67-691e319597ee</td>\n",
       "      <td>26.242908</td>\n",
       "    </tr>\n",
       "  </tbody>\n",
       "</table>\n",
       "</div>"
      ],
      "text/plain": [
       "         date                              asset_id      close\n",
       "0  2024-10-24  2db6b38a-681a-4514-9d67-691e319597ee  26.824577\n",
       "1  2024-10-25  2db6b38a-681a-4514-9d67-691e319597ee  24.895794\n",
       "2  2024-10-26  2db6b38a-681a-4514-9d67-691e319597ee  25.377741\n",
       "3  2024-10-27  2db6b38a-681a-4514-9d67-691e319597ee  25.749116\n",
       "4  2024-10-28  2db6b38a-681a-4514-9d67-691e319597ee  26.242908"
      ]
     },
     "execution_count": 9,
     "metadata": {},
     "output_type": "execute_result"
    }
   ],
   "source": [
    "market_df.head()"
   ]
  },
  {
   "cell_type": "code",
   "execution_count": 10,
   "metadata": {},
   "outputs": [
    {
     "data": {
      "text/html": [
       "<div>\n",
       "<style scoped>\n",
       "    .dataframe tbody tr th:only-of-type {\n",
       "        vertical-align: middle;\n",
       "    }\n",
       "\n",
       "    .dataframe tbody tr th {\n",
       "        vertical-align: top;\n",
       "    }\n",
       "\n",
       "    .dataframe thead th {\n",
       "        text-align: right;\n",
       "    }\n",
       "</style>\n",
       "<table border=\"1\" class=\"dataframe\">\n",
       "  <thead>\n",
       "    <tr style=\"text-align: right;\">\n",
       "      <th></th>\n",
       "      <th>asset_id</th>\n",
       "      <th>asset_name</th>\n",
       "      <th>date</th>\n",
       "      <th>title</th>\n",
       "      <th>description</th>\n",
       "      <th>url</th>\n",
       "      <th>count</th>\n",
       "      <th>close</th>\n",
       "    </tr>\n",
       "  </thead>\n",
       "  <tbody>\n",
       "    <tr>\n",
       "      <th>0</th>\n",
       "      <td>0018b9a5-f16d-440b-a617-a7c52ae2fc42</td>\n",
       "      <td>Voltage</td>\n",
       "      <td>2024-10-29</td>\n",
       "      <td>[Lessons Learned, Future Defined — A Community...</td>\n",
       "      <td>[None]</td>\n",
       "      <td>[https://medium.com/@voltage.finance/lessons-l...</td>\n",
       "      <td>1</td>\n",
       "      <td>NaN</td>\n",
       "    </tr>\n",
       "    <tr>\n",
       "      <th>1</th>\n",
       "      <td>007fe708-6ace-499b-a999-dcaa45e0eaf5</td>\n",
       "      <td>Zilliqa</td>\n",
       "      <td>2024-10-23</td>\n",
       "      <td>[Web3Auth is now integrated with Zilliqa EVM]</td>\n",
       "      <td>[None]</td>\n",
       "      <td>[https://blog.zilliqa.com/web3auth-is-now-inte...</td>\n",
       "      <td>1</td>\n",
       "      <td>NaN</td>\n",
       "    </tr>\n",
       "    <tr>\n",
       "      <th>2</th>\n",
       "      <td>007fe708-6ace-499b-a999-dcaa45e0eaf5</td>\n",
       "      <td>Zilliqa</td>\n",
       "      <td>2024-10-28</td>\n",
       "      <td>[Jasper proto-testnet showcases Zilliqa 2.0 pe...</td>\n",
       "      <td>[None]</td>\n",
       "      <td>[https://blog.zilliqa.com/jasper-proto-testnet...</td>\n",
       "      <td>1</td>\n",
       "      <td>0.014205</td>\n",
       "    </tr>\n",
       "    <tr>\n",
       "      <th>3</th>\n",
       "      <td>007fe708-6ace-499b-a999-dcaa45e0eaf5</td>\n",
       "      <td>Zilliqa</td>\n",
       "      <td>2024-10-30</td>\n",
       "      <td>[Zilliqa’s Mission to Unlock Web3 for All]</td>\n",
       "      <td>[None]</td>\n",
       "      <td>[https://blog.zilliqa.com/zilliqas-mission-to-...</td>\n",
       "      <td>1</td>\n",
       "      <td>0.014648</td>\n",
       "    </tr>\n",
       "    <tr>\n",
       "      <th>4</th>\n",
       "      <td>007fe708-6ace-499b-a999-dcaa45e0eaf5</td>\n",
       "      <td>Zilliqa</td>\n",
       "      <td>2024-11-01</td>\n",
       "      <td>[Zilliqa Monthly Newsletter - October 2024]</td>\n",
       "      <td>[None]</td>\n",
       "      <td>[https://blog.zilliqa.com/zilliqa-monthly-news...</td>\n",
       "      <td>1</td>\n",
       "      <td>0.013911</td>\n",
       "    </tr>\n",
       "  </tbody>\n",
       "</table>\n",
       "</div>"
      ],
      "text/plain": [
       "                               asset_id asset_name        date  \\\n",
       "0  0018b9a5-f16d-440b-a617-a7c52ae2fc42    Voltage  2024-10-29   \n",
       "1  007fe708-6ace-499b-a999-dcaa45e0eaf5    Zilliqa  2024-10-23   \n",
       "2  007fe708-6ace-499b-a999-dcaa45e0eaf5    Zilliqa  2024-10-28   \n",
       "3  007fe708-6ace-499b-a999-dcaa45e0eaf5    Zilliqa  2024-10-30   \n",
       "4  007fe708-6ace-499b-a999-dcaa45e0eaf5    Zilliqa  2024-11-01   \n",
       "\n",
       "                                               title description  \\\n",
       "0  [Lessons Learned, Future Defined — A Community...      [None]   \n",
       "1      [Web3Auth is now integrated with Zilliqa EVM]      [None]   \n",
       "2  [Jasper proto-testnet showcases Zilliqa 2.0 pe...      [None]   \n",
       "3         [Zilliqa’s Mission to Unlock Web3 for All]      [None]   \n",
       "4        [Zilliqa Monthly Newsletter - October 2024]      [None]   \n",
       "\n",
       "                                                 url  count     close  \n",
       "0  [https://medium.com/@voltage.finance/lessons-l...      1       NaN  \n",
       "1  [https://blog.zilliqa.com/web3auth-is-now-inte...      1       NaN  \n",
       "2  [https://blog.zilliqa.com/jasper-proto-testnet...      1  0.014205  \n",
       "3  [https://blog.zilliqa.com/zilliqas-mission-to-...      1  0.014648  \n",
       "4  [https://blog.zilliqa.com/zilliqa-monthly-news...      1  0.013911  "
      ]
     },
     "execution_count": 10,
     "metadata": {},
     "output_type": "execute_result"
    }
   ],
   "source": [
    "final_df.head()"
   ]
  },
  {
   "cell_type": "markdown",
   "metadata": {},
   "source": [
    "# `02_metrics_and_charting.py`\n",
    "\n",
    "In the next section, we will calculate a few metrics such as trend_score, acceleration_score etc. and plot the momentum score vs price."
   ]
  },
  {
   "cell_type": "code",
   "execution_count": 27,
   "metadata": {},
   "outputs": [],
   "source": [
    "import pandas as pd\n",
    "import plotly.graph_objects as go\n",
    "from plotly.subplots import make_subplots\n",
    "\n",
    "########################\n",
    "# 0. SETUP & CONFIGURATION\n",
    "########################\n",
    "\n",
    "# Variables\n",
    "INPUT_FILEPATH = \"output/data.csv\"\n",
    "OUTPUT_METRICS_FILEPATH = \"output/data_with_metrics.csv\"\n",
    "OUTPUT_PLOT_FILEPATH = \"output/momentum_vs_price.html\"\n",
    "DEFAULT_ASSET_ID = \"b3d5d66c-26a2-404c-9325-91dc714a722b\"  # Solana\n",
    "\n",
    "# Constants\n",
    "ROLLING_WINDOW = 7  # Days for rolling average calculations\n",
    "MIN_PERIODS = 1  # Minimum periods for rolling calculations\n",
    "\n",
    "\n",
    "def load_and_prepare_data():\n",
    "    \"\"\"Load data from CSV and prepare initial dataframe\"\"\"\n",
    "    df = pd.read_csv(INPUT_FILEPATH)\n",
    "    df[\"date\"] = pd.to_datetime(df[\"date\"])\n",
    "    return df.sort_values([\"asset_id\", \"date\"])\n",
    "\n",
    "\n",
    "def calculate_metrics(df):\n",
    "    \"\"\"Calculate momentum-related metrics for each asset\"\"\"\n",
    "    # Calculate rolling 7-day average count\n",
    "    df[\"count_7d_avg\"] = df.groupby(\"asset_id\")[\"count\"].transform(\n",
    "        lambda x: x.rolling(window=ROLLING_WINDOW, min_periods=MIN_PERIODS).mean()\n",
    "    )\n",
    "\n",
    "    # Calculate trend score (7-day change in rolling average)\n",
    "    df[\"trend_score\"] = df.groupby(\"asset_id\")[\"count_7d_avg\"].transform(\n",
    "        lambda x: x.pct_change(periods=ROLLING_WINDOW)\n",
    "    )\n",
    "\n",
    "    # Calculate acceleration score (1-day change in trend)\n",
    "    df[\"acceleration_score\"] = df.groupby(\"asset_id\")[\"trend_score\"].transform(\n",
    "        lambda x: x.pct_change(periods=1)\n",
    "    )\n",
    "\n",
    "    # Calculate price score (7-day price change)\n",
    "    df[\"price_score\"] = df.groupby(\"asset_id\")[\"close\"].transform(\n",
    "        lambda x: x.pct_change(periods=ROLLING_WINDOW)\n",
    "    )\n",
    "\n",
    "    return df\n",
    "\n",
    "\n",
    "def clean_data(df):\n",
    "    \"\"\"Clean data by handling infinities and filtering rows\"\"\"\n",
    "    # Replace infinities with NaN\n",
    "    for col in [\"trend_score\", \"acceleration_score\", \"price_score\"]:\n",
    "        df[col] = df[col].replace([float(\"inf\"), float(\"-inf\")], float(\"nan\"))\n",
    "\n",
    "    # Remove rows with NaN values\n",
    "    df = df.dropna(subset=[\"close\", \"trend_score\", \"acceleration_score\", \"price_score\"])\n",
    "\n",
    "    # Calculate and filter momentum score\n",
    "    df[\"momentum_score\"] = (\n",
    "        df[\"trend_score\"] * df[\"acceleration_score\"] * df[\"price_score\"]\n",
    "    )\n",
    "    df = df[df[\"momentum_score\"] > 0]\n",
    "    df = df[df[\"acceleration_score\"] > 0]\n",
    "\n",
    "    return df.sort_values([\"date\", \"momentum_score\"], ascending=[False, False])\n",
    "\n",
    "\n",
    "def plot_momentum_vs_price(df, asset_id):\n",
    "    \"\"\"Create a dual-axis plot comparing momentum score and price\"\"\"\n",
    "    # Filter for specific asset\n",
    "    asset_df = df[df[\"asset_id\"] == asset_id]\n",
    "    asset_name = asset_df[\"asset_name\"].iloc[0]\n",
    "\n",
    "    # Create figure with dual y-axes\n",
    "    fig = make_subplots(specs=[[{\"secondary_y\": True}]])\n",
    "\n",
    "    # Add momentum score trace\n",
    "    fig.add_trace(\n",
    "        go.Scatter(\n",
    "            x=asset_df[\"date\"], y=asset_df[\"momentum_score\"], name=\"Momentum Score\"\n",
    "        ),\n",
    "        secondary_y=False,\n",
    "    )\n",
    "\n",
    "    # Add price trace\n",
    "    fig.add_trace(\n",
    "        go.Scatter(x=asset_df[\"date\"], y=asset_df[\"close\"], name=\"Close Price\"),\n",
    "        secondary_y=True,\n",
    "    )\n",
    "\n",
    "    # Update layout\n",
    "    fig.update_layout(title=f\"{asset_name} Momentum Score and Close Price Over Time\")\n",
    "    fig.update_yaxes(title_text=\"Momentum Score\", secondary_y=False)\n",
    "    fig.update_yaxes(title_text=\"Close Price\", secondary_y=True)\n",
    "\n",
    "    return fig"
   ]
  },
  {
   "cell_type": "code",
   "execution_count": 28,
   "metadata": {},
   "outputs": [
    {
     "data": {
      "text/html": [
       "<div>\n",
       "<style scoped>\n",
       "    .dataframe tbody tr th:only-of-type {\n",
       "        vertical-align: middle;\n",
       "    }\n",
       "\n",
       "    .dataframe tbody tr th {\n",
       "        vertical-align: top;\n",
       "    }\n",
       "\n",
       "    .dataframe thead th {\n",
       "        text-align: right;\n",
       "    }\n",
       "</style>\n",
       "<table border=\"1\" class=\"dataframe\">\n",
       "  <thead>\n",
       "    <tr style=\"text-align: right;\">\n",
       "      <th></th>\n",
       "      <th>asset_id</th>\n",
       "      <th>asset_name</th>\n",
       "      <th>date</th>\n",
       "      <th>title</th>\n",
       "      <th>description</th>\n",
       "      <th>url</th>\n",
       "      <th>count</th>\n",
       "      <th>close</th>\n",
       "      <th>count_7d_avg</th>\n",
       "      <th>trend_score</th>\n",
       "      <th>acceleration_score</th>\n",
       "      <th>price_score</th>\n",
       "      <th>momentum_score</th>\n",
       "    </tr>\n",
       "  </thead>\n",
       "  <tbody>\n",
       "    <tr>\n",
       "      <th>3221</th>\n",
       "      <td>6b4833f7-4671-4074-9de6-93d6c40bd739</td>\n",
       "      <td>Sky Protocol</td>\n",
       "      <td>2024-11-20</td>\n",
       "      <td>['Coinbase to delist WBTC, halt trading on Dec...</td>\n",
       "      <td>['Coinbase will\\xa0disable Wrapped Bitcoin (WB...</td>\n",
       "      <td>['https://cryptoslate.com/coinbase-to-delist-w...</td>\n",
       "      <td>1</td>\n",
       "      <td>0.060600</td>\n",
       "      <td>1.714286</td>\n",
       "      <td>0.224490</td>\n",
       "      <td>0.571429</td>\n",
       "      <td>0.299031</td>\n",
       "      <td>0.038360</td>\n",
       "    </tr>\n",
       "    <tr>\n",
       "      <th>1225</th>\n",
       "      <td>21c795f5-1bfd-40c3-858e-e9d7e820c6d0</td>\n",
       "      <td>Ethereum</td>\n",
       "      <td>2024-11-20</td>\n",
       "      <td>['Ethereum ETFs record sudden outflows: What c...</td>\n",
       "      <td>['\\n \\tEthereum ETF inflows hit a high, but be...</td>\n",
       "      <td>['https://ambcrypto.com/ethereum-etfs-record-s...</td>\n",
       "      <td>3</td>\n",
       "      <td>3092.511819</td>\n",
       "      <td>46.285714</td>\n",
       "      <td>-0.349398</td>\n",
       "      <td>3.000602</td>\n",
       "      <td>-0.031112</td>\n",
       "      <td>0.032617</td>\n",
       "    </tr>\n",
       "    <tr>\n",
       "      <th>3781</th>\n",
       "      <td>7dc551ba-cfed-4437-a027-386044415e3e</td>\n",
       "      <td>BNB</td>\n",
       "      <td>2024-11-20</td>\n",
       "      <td>['BNB at $615 support level: Is this the calm ...</td>\n",
       "      <td>['\\n \\tBNB liquidation pools hit $2.75M at the...</td>\n",
       "      <td>['https://ambcrypto.com/bnb-at-615-support-lev...</td>\n",
       "      <td>1</td>\n",
       "      <td>610.112147</td>\n",
       "      <td>5.285714</td>\n",
       "      <td>-0.339286</td>\n",
       "      <td>2.053571</td>\n",
       "      <td>-0.018294</td>\n",
       "      <td>0.012746</td>\n",
       "    </tr>\n",
       "    <tr>\n",
       "      <th>6797</th>\n",
       "      <td>e979beec-e534-4f5f-a69d-851b64b38f5f</td>\n",
       "      <td>Jupiter</td>\n",
       "      <td>2024-11-20</td>\n",
       "      <td>['✨ Countdown to Jupuary 2025: Info &amp; Discussi...</td>\n",
       "      <td>['None', 'None', 'None', 'None', 'None', 'None...</td>\n",
       "      <td>['https://www.jupresear.ch/t/countdown-to-jupu...</td>\n",
       "      <td>11</td>\n",
       "      <td>1.096899</td>\n",
       "      <td>65.714286</td>\n",
       "      <td>-0.235880</td>\n",
       "      <td>0.205611</td>\n",
       "      <td>-0.059474</td>\n",
       "      <td>0.002884</td>\n",
       "    </tr>\n",
       "    <tr>\n",
       "      <th>778</th>\n",
       "      <td>17b91b7d-e10b-43be-b046-c170aecd0783</td>\n",
       "      <td>Hedera Hashgraph</td>\n",
       "      <td>2024-11-19</td>\n",
       "      <td>['Bitcoin’s Price Choppy at $91K, PEPE Dumps b...</td>\n",
       "      <td>[\"HBAR and XTZ are today's top performers from...</td>\n",
       "      <td>['https://cryptopotato.com/bitcoins-price-chop...</td>\n",
       "      <td>9</td>\n",
       "      <td>0.133216</td>\n",
       "      <td>3.857143</td>\n",
       "      <td>0.800000</td>\n",
       "      <td>0.866667</td>\n",
       "      <td>1.888619</td>\n",
       "      <td>1.309442</td>\n",
       "    </tr>\n",
       "    <tr>\n",
       "      <th>...</th>\n",
       "      <td>...</td>\n",
       "      <td>...</td>\n",
       "      <td>...</td>\n",
       "      <td>...</td>\n",
       "      <td>...</td>\n",
       "      <td>...</td>\n",
       "      <td>...</td>\n",
       "      <td>...</td>\n",
       "      <td>...</td>\n",
       "      <td>...</td>\n",
       "      <td>...</td>\n",
       "      <td>...</td>\n",
       "      <td>...</td>\n",
       "    </tr>\n",
       "    <tr>\n",
       "      <th>3593</th>\n",
       "      <td>78c4b0c5-8cbe-4f05-b639-0eb942e86dd5</td>\n",
       "      <td>Sui</td>\n",
       "      <td>2024-10-31</td>\n",
       "      <td>['First Digital Labs Expands FDUSD Stablecoin ...</td>\n",
       "      <td>['    First Digital Labs integrates FDUSD stab...</td>\n",
       "      <td>['https://en.coin-turk.com/first-digital-labs-...</td>\n",
       "      <td>5</td>\n",
       "      <td>1.969365</td>\n",
       "      <td>5.285714</td>\n",
       "      <td>0.510204</td>\n",
       "      <td>1.040816</td>\n",
       "      <td>0.017296</td>\n",
       "      <td>0.009185</td>\n",
       "    </tr>\n",
       "    <tr>\n",
       "      <th>996</th>\n",
       "      <td>1d51479d-68f6-4886-8644-2a55ea9007bf</td>\n",
       "      <td>Uniswap</td>\n",
       "      <td>2024-10-31</td>\n",
       "      <td>['Buy Crypto Using Venmo on Uniswap Web and Wa...</td>\n",
       "      <td>['None', 'The commemorative ‘Investigations’ N...</td>\n",
       "      <td>['https://blog.uniswap.org/buy-crypto-using-ve...</td>\n",
       "      <td>6</td>\n",
       "      <td>7.606876</td>\n",
       "      <td>5.142857</td>\n",
       "      <td>-0.532468</td>\n",
       "      <td>0.138889</td>\n",
       "      <td>-0.053631</td>\n",
       "      <td>0.003966</td>\n",
       "    </tr>\n",
       "    <tr>\n",
       "      <th>4385</th>\n",
       "      <td>97775be0-2608-4720-b7af-f85b24c7eb2d</td>\n",
       "      <td>XRP</td>\n",
       "      <td>2024-10-31</td>\n",
       "      <td>['XRP Sees Potential Price Increase This Novem...</td>\n",
       "      <td>['    XRP has potential for price increases as...</td>\n",
       "      <td>['https://en.coin-turk.com/xrp-sees-potential-...</td>\n",
       "      <td>12</td>\n",
       "      <td>0.509055</td>\n",
       "      <td>10.428571</td>\n",
       "      <td>-0.546584</td>\n",
       "      <td>0.080307</td>\n",
       "      <td>-0.042719</td>\n",
       "      <td>0.001875</td>\n",
       "    </tr>\n",
       "    <tr>\n",
       "      <th>1205</th>\n",
       "      <td>21c795f5-1bfd-40c3-858e-e9d7e820c6d0</td>\n",
       "      <td>Ethereum</td>\n",
       "      <td>2024-10-31</td>\n",
       "      <td>['The Devcon schedule is live!', 'Bitcoin and ...</td>\n",
       "      <td>['None', 'Crypto.com’s monthly spot trading vo...</td>\n",
       "      <td>['https://blog.ethereum.org/en/2024/10/31/devc...</td>\n",
       "      <td>92</td>\n",
       "      <td>2516.113112</td>\n",
       "      <td>74.428571</td>\n",
       "      <td>-0.203972</td>\n",
       "      <td>1.141711</td>\n",
       "      <td>-0.007301</td>\n",
       "      <td>0.001700</td>\n",
       "    </tr>\n",
       "    <tr>\n",
       "      <th>1119</th>\n",
       "      <td>2023433a-23f4-4901-822d-a537b0c71676</td>\n",
       "      <td>Toncoin</td>\n",
       "      <td>2024-10-31</td>\n",
       "      <td>['MAP Protocol October Updates', \"XRP's price ...</td>\n",
       "      <td>['None', \"\\n \\tXRP declined over the last 24 h...</td>\n",
       "      <td>['https://medium.com/@mapprotocolofficial/map-...</td>\n",
       "      <td>13</td>\n",
       "      <td>4.838720</td>\n",
       "      <td>5.714286</td>\n",
       "      <td>-0.365079</td>\n",
       "      <td>0.076023</td>\n",
       "      <td>-0.055954</td>\n",
       "      <td>0.001553</td>\n",
       "    </tr>\n",
       "  </tbody>\n",
       "</table>\n",
       "<p>294 rows × 13 columns</p>\n",
       "</div>"
      ],
      "text/plain": [
       "                                  asset_id        asset_name       date  \\\n",
       "3221  6b4833f7-4671-4074-9de6-93d6c40bd739      Sky Protocol 2024-11-20   \n",
       "1225  21c795f5-1bfd-40c3-858e-e9d7e820c6d0          Ethereum 2024-11-20   \n",
       "3781  7dc551ba-cfed-4437-a027-386044415e3e               BNB 2024-11-20   \n",
       "6797  e979beec-e534-4f5f-a69d-851b64b38f5f           Jupiter 2024-11-20   \n",
       "778   17b91b7d-e10b-43be-b046-c170aecd0783  Hedera Hashgraph 2024-11-19   \n",
       "...                                    ...               ...        ...   \n",
       "3593  78c4b0c5-8cbe-4f05-b639-0eb942e86dd5               Sui 2024-10-31   \n",
       "996   1d51479d-68f6-4886-8644-2a55ea9007bf           Uniswap 2024-10-31   \n",
       "4385  97775be0-2608-4720-b7af-f85b24c7eb2d               XRP 2024-10-31   \n",
       "1205  21c795f5-1bfd-40c3-858e-e9d7e820c6d0          Ethereum 2024-10-31   \n",
       "1119  2023433a-23f4-4901-822d-a537b0c71676           Toncoin 2024-10-31   \n",
       "\n",
       "                                                  title  \\\n",
       "3221  ['Coinbase to delist WBTC, halt trading on Dec...   \n",
       "1225  ['Ethereum ETFs record sudden outflows: What c...   \n",
       "3781  ['BNB at $615 support level: Is this the calm ...   \n",
       "6797  ['✨ Countdown to Jupuary 2025: Info & Discussi...   \n",
       "778   ['Bitcoin’s Price Choppy at $91K, PEPE Dumps b...   \n",
       "...                                                 ...   \n",
       "3593  ['First Digital Labs Expands FDUSD Stablecoin ...   \n",
       "996   ['Buy Crypto Using Venmo on Uniswap Web and Wa...   \n",
       "4385  ['XRP Sees Potential Price Increase This Novem...   \n",
       "1205  ['The Devcon schedule is live!', 'Bitcoin and ...   \n",
       "1119  ['MAP Protocol October Updates', \"XRP's price ...   \n",
       "\n",
       "                                            description  \\\n",
       "3221  ['Coinbase will\\xa0disable Wrapped Bitcoin (WB...   \n",
       "1225  ['\\n \\tEthereum ETF inflows hit a high, but be...   \n",
       "3781  ['\\n \\tBNB liquidation pools hit $2.75M at the...   \n",
       "6797  ['None', 'None', 'None', 'None', 'None', 'None...   \n",
       "778   [\"HBAR and XTZ are today's top performers from...   \n",
       "...                                                 ...   \n",
       "3593  ['    First Digital Labs integrates FDUSD stab...   \n",
       "996   ['None', 'The commemorative ‘Investigations’ N...   \n",
       "4385  ['    XRP has potential for price increases as...   \n",
       "1205  ['None', 'Crypto.com’s monthly spot trading vo...   \n",
       "1119  ['None', \"\\n \\tXRP declined over the last 24 h...   \n",
       "\n",
       "                                                    url  count        close  \\\n",
       "3221  ['https://cryptoslate.com/coinbase-to-delist-w...      1     0.060600   \n",
       "1225  ['https://ambcrypto.com/ethereum-etfs-record-s...      3  3092.511819   \n",
       "3781  ['https://ambcrypto.com/bnb-at-615-support-lev...      1   610.112147   \n",
       "6797  ['https://www.jupresear.ch/t/countdown-to-jupu...     11     1.096899   \n",
       "778   ['https://cryptopotato.com/bitcoins-price-chop...      9     0.133216   \n",
       "...                                                 ...    ...          ...   \n",
       "3593  ['https://en.coin-turk.com/first-digital-labs-...      5     1.969365   \n",
       "996   ['https://blog.uniswap.org/buy-crypto-using-ve...      6     7.606876   \n",
       "4385  ['https://en.coin-turk.com/xrp-sees-potential-...     12     0.509055   \n",
       "1205  ['https://blog.ethereum.org/en/2024/10/31/devc...     92  2516.113112   \n",
       "1119  ['https://medium.com/@mapprotocolofficial/map-...     13     4.838720   \n",
       "\n",
       "      count_7d_avg  trend_score  acceleration_score  price_score  \\\n",
       "3221      1.714286     0.224490            0.571429     0.299031   \n",
       "1225     46.285714    -0.349398            3.000602    -0.031112   \n",
       "3781      5.285714    -0.339286            2.053571    -0.018294   \n",
       "6797     65.714286    -0.235880            0.205611    -0.059474   \n",
       "778       3.857143     0.800000            0.866667     1.888619   \n",
       "...            ...          ...                 ...          ...   \n",
       "3593      5.285714     0.510204            1.040816     0.017296   \n",
       "996       5.142857    -0.532468            0.138889    -0.053631   \n",
       "4385     10.428571    -0.546584            0.080307    -0.042719   \n",
       "1205     74.428571    -0.203972            1.141711    -0.007301   \n",
       "1119      5.714286    -0.365079            0.076023    -0.055954   \n",
       "\n",
       "      momentum_score  \n",
       "3221        0.038360  \n",
       "1225        0.032617  \n",
       "3781        0.012746  \n",
       "6797        0.002884  \n",
       "778         1.309442  \n",
       "...              ...  \n",
       "3593        0.009185  \n",
       "996         0.003966  \n",
       "4385        0.001875  \n",
       "1205        0.001700  \n",
       "1119        0.001553  \n",
       "\n",
       "[294 rows x 13 columns]"
      ]
     },
     "execution_count": 28,
     "metadata": {},
     "output_type": "execute_result"
    }
   ],
   "source": [
    "df = load_and_prepare_data()\n",
    "df = calculate_metrics(df)\n",
    "df = clean_data(df)\n",
    "df"
   ]
  },
  {
   "cell_type": "code",
   "execution_count": 29,
   "metadata": {},
   "outputs": [
    {
     "name": "stdout",
     "output_type": "stream",
     "text": [
      "Processed data saved to output/data_with_metrics.csv\n"
     ]
    },
    {
     "data": {
      "text/html": [
       "<div>\n",
       "<style scoped>\n",
       "    .dataframe tbody tr th:only-of-type {\n",
       "        vertical-align: middle;\n",
       "    }\n",
       "\n",
       "    .dataframe tbody tr th {\n",
       "        vertical-align: top;\n",
       "    }\n",
       "\n",
       "    .dataframe thead th {\n",
       "        text-align: right;\n",
       "    }\n",
       "</style>\n",
       "<table border=\"1\" class=\"dataframe\">\n",
       "  <thead>\n",
       "    <tr style=\"text-align: right;\">\n",
       "      <th></th>\n",
       "      <th>asset_id</th>\n",
       "      <th>asset_name</th>\n",
       "      <th>date</th>\n",
       "      <th>title</th>\n",
       "      <th>description</th>\n",
       "      <th>url</th>\n",
       "      <th>count</th>\n",
       "      <th>close</th>\n",
       "      <th>count_7d_avg</th>\n",
       "      <th>trend_score</th>\n",
       "      <th>acceleration_score</th>\n",
       "      <th>price_score</th>\n",
       "      <th>momentum_score</th>\n",
       "    </tr>\n",
       "  </thead>\n",
       "  <tbody>\n",
       "    <tr>\n",
       "      <th>3221</th>\n",
       "      <td>6b4833f7-4671-4074-9de6-93d6c40bd739</td>\n",
       "      <td>Sky Protocol</td>\n",
       "      <td>2024-11-20</td>\n",
       "      <td>['Coinbase to delist WBTC, halt trading on Dec...</td>\n",
       "      <td>['Coinbase will\\xa0disable Wrapped Bitcoin (WB...</td>\n",
       "      <td>['https://cryptoslate.com/coinbase-to-delist-w...</td>\n",
       "      <td>1</td>\n",
       "      <td>0.060600</td>\n",
       "      <td>1.714286</td>\n",
       "      <td>0.224490</td>\n",
       "      <td>0.571429</td>\n",
       "      <td>0.299031</td>\n",
       "      <td>0.038360</td>\n",
       "    </tr>\n",
       "    <tr>\n",
       "      <th>1225</th>\n",
       "      <td>21c795f5-1bfd-40c3-858e-e9d7e820c6d0</td>\n",
       "      <td>Ethereum</td>\n",
       "      <td>2024-11-20</td>\n",
       "      <td>['Ethereum ETFs record sudden outflows: What c...</td>\n",
       "      <td>['\\n \\tEthereum ETF inflows hit a high, but be...</td>\n",
       "      <td>['https://ambcrypto.com/ethereum-etfs-record-s...</td>\n",
       "      <td>3</td>\n",
       "      <td>3092.511819</td>\n",
       "      <td>46.285714</td>\n",
       "      <td>-0.349398</td>\n",
       "      <td>3.000602</td>\n",
       "      <td>-0.031112</td>\n",
       "      <td>0.032617</td>\n",
       "    </tr>\n",
       "    <tr>\n",
       "      <th>3781</th>\n",
       "      <td>7dc551ba-cfed-4437-a027-386044415e3e</td>\n",
       "      <td>BNB</td>\n",
       "      <td>2024-11-20</td>\n",
       "      <td>['BNB at $615 support level: Is this the calm ...</td>\n",
       "      <td>['\\n \\tBNB liquidation pools hit $2.75M at the...</td>\n",
       "      <td>['https://ambcrypto.com/bnb-at-615-support-lev...</td>\n",
       "      <td>1</td>\n",
       "      <td>610.112147</td>\n",
       "      <td>5.285714</td>\n",
       "      <td>-0.339286</td>\n",
       "      <td>2.053571</td>\n",
       "      <td>-0.018294</td>\n",
       "      <td>0.012746</td>\n",
       "    </tr>\n",
       "    <tr>\n",
       "      <th>6797</th>\n",
       "      <td>e979beec-e534-4f5f-a69d-851b64b38f5f</td>\n",
       "      <td>Jupiter</td>\n",
       "      <td>2024-11-20</td>\n",
       "      <td>['✨ Countdown to Jupuary 2025: Info &amp; Discussi...</td>\n",
       "      <td>['None', 'None', 'None', 'None', 'None', 'None...</td>\n",
       "      <td>['https://www.jupresear.ch/t/countdown-to-jupu...</td>\n",
       "      <td>11</td>\n",
       "      <td>1.096899</td>\n",
       "      <td>65.714286</td>\n",
       "      <td>-0.235880</td>\n",
       "      <td>0.205611</td>\n",
       "      <td>-0.059474</td>\n",
       "      <td>0.002884</td>\n",
       "    </tr>\n",
       "    <tr>\n",
       "      <th>778</th>\n",
       "      <td>17b91b7d-e10b-43be-b046-c170aecd0783</td>\n",
       "      <td>Hedera Hashgraph</td>\n",
       "      <td>2024-11-19</td>\n",
       "      <td>['Bitcoin’s Price Choppy at $91K, PEPE Dumps b...</td>\n",
       "      <td>[\"HBAR and XTZ are today's top performers from...</td>\n",
       "      <td>['https://cryptopotato.com/bitcoins-price-chop...</td>\n",
       "      <td>9</td>\n",
       "      <td>0.133216</td>\n",
       "      <td>3.857143</td>\n",
       "      <td>0.800000</td>\n",
       "      <td>0.866667</td>\n",
       "      <td>1.888619</td>\n",
       "      <td>1.309442</td>\n",
       "    </tr>\n",
       "  </tbody>\n",
       "</table>\n",
       "</div>"
      ],
      "text/plain": [
       "                                  asset_id        asset_name       date  \\\n",
       "3221  6b4833f7-4671-4074-9de6-93d6c40bd739      Sky Protocol 2024-11-20   \n",
       "1225  21c795f5-1bfd-40c3-858e-e9d7e820c6d0          Ethereum 2024-11-20   \n",
       "3781  7dc551ba-cfed-4437-a027-386044415e3e               BNB 2024-11-20   \n",
       "6797  e979beec-e534-4f5f-a69d-851b64b38f5f           Jupiter 2024-11-20   \n",
       "778   17b91b7d-e10b-43be-b046-c170aecd0783  Hedera Hashgraph 2024-11-19   \n",
       "\n",
       "                                                  title  \\\n",
       "3221  ['Coinbase to delist WBTC, halt trading on Dec...   \n",
       "1225  ['Ethereum ETFs record sudden outflows: What c...   \n",
       "3781  ['BNB at $615 support level: Is this the calm ...   \n",
       "6797  ['✨ Countdown to Jupuary 2025: Info & Discussi...   \n",
       "778   ['Bitcoin’s Price Choppy at $91K, PEPE Dumps b...   \n",
       "\n",
       "                                            description  \\\n",
       "3221  ['Coinbase will\\xa0disable Wrapped Bitcoin (WB...   \n",
       "1225  ['\\n \\tEthereum ETF inflows hit a high, but be...   \n",
       "3781  ['\\n \\tBNB liquidation pools hit $2.75M at the...   \n",
       "6797  ['None', 'None', 'None', 'None', 'None', 'None...   \n",
       "778   [\"HBAR and XTZ are today's top performers from...   \n",
       "\n",
       "                                                    url  count        close  \\\n",
       "3221  ['https://cryptoslate.com/coinbase-to-delist-w...      1     0.060600   \n",
       "1225  ['https://ambcrypto.com/ethereum-etfs-record-s...      3  3092.511819   \n",
       "3781  ['https://ambcrypto.com/bnb-at-615-support-lev...      1   610.112147   \n",
       "6797  ['https://www.jupresear.ch/t/countdown-to-jupu...     11     1.096899   \n",
       "778   ['https://cryptopotato.com/bitcoins-price-chop...      9     0.133216   \n",
       "\n",
       "      count_7d_avg  trend_score  acceleration_score  price_score  \\\n",
       "3221      1.714286     0.224490            0.571429     0.299031   \n",
       "1225     46.285714    -0.349398            3.000602    -0.031112   \n",
       "3781      5.285714    -0.339286            2.053571    -0.018294   \n",
       "6797     65.714286    -0.235880            0.205611    -0.059474   \n",
       "778       3.857143     0.800000            0.866667     1.888619   \n",
       "\n",
       "      momentum_score  \n",
       "3221        0.038360  \n",
       "1225        0.032617  \n",
       "3781        0.012746  \n",
       "6797        0.002884  \n",
       "778         1.309442  "
      ]
     },
     "execution_count": 29,
     "metadata": {},
     "output_type": "execute_result"
    }
   ],
   "source": [
    "# Load and process data\n",
    "df = load_and_prepare_data()\n",
    "df = calculate_metrics(df)\n",
    "df = clean_data(df)\n",
    "\n",
    "# Save processed data\n",
    "df.to_csv(OUTPUT_METRICS_FILEPATH, index=False)\n",
    "print(f\"Processed data saved to {OUTPUT_METRICS_FILEPATH}\")\n",
    "\n",
    "df.head()"
   ]
  },
  {
   "cell_type": "code",
   "execution_count": 5,
   "metadata": {},
   "outputs": [
    {
     "data": {
      "application/vnd.plotly.v1+json": {
       "config": {
        "plotlyServerURL": "https://plot.ly"
       },
       "data": [
        {
         "name": "Momentum Score",
         "type": "scatter",
         "x": [
          "2024-11-17T00:00:00",
          "2024-11-16T00:00:00",
          "2024-11-14T00:00:00",
          "2024-11-13T00:00:00",
          "2024-11-05T00:00:00"
         ],
         "xaxis": "x",
         "y": [
          0.00844315108503635,
          0.0011338853901932346,
          0.0007265461787662451,
          0.23692708327101852,
          0.00027943050485504454
         ],
         "yaxis": "y"
        },
        {
         "name": "Close Price",
         "type": "scatter",
         "x": [
          "2024-11-17T00:00:00",
          "2024-11-16T00:00:00",
          "2024-11-14T00:00:00",
          "2024-11-13T00:00:00",
          "2024-11-05T00:00:00"
         ],
         "xaxis": "x",
         "y": [
          237.54338177098072,
          215.76119474292884,
          209.56082412802743,
          215.4259383109019,
          166.62383775617735
         ],
         "yaxis": "y2"
        }
       ],
       "layout": {
        "template": {
         "data": {
          "bar": [
           {
            "error_x": {
             "color": "#2a3f5f"
            },
            "error_y": {
             "color": "#2a3f5f"
            },
            "marker": {
             "line": {
              "color": "#E5ECF6",
              "width": 0.5
             },
             "pattern": {
              "fillmode": "overlay",
              "size": 10,
              "solidity": 0.2
             }
            },
            "type": "bar"
           }
          ],
          "barpolar": [
           {
            "marker": {
             "line": {
              "color": "#E5ECF6",
              "width": 0.5
             },
             "pattern": {
              "fillmode": "overlay",
              "size": 10,
              "solidity": 0.2
             }
            },
            "type": "barpolar"
           }
          ],
          "carpet": [
           {
            "aaxis": {
             "endlinecolor": "#2a3f5f",
             "gridcolor": "white",
             "linecolor": "white",
             "minorgridcolor": "white",
             "startlinecolor": "#2a3f5f"
            },
            "baxis": {
             "endlinecolor": "#2a3f5f",
             "gridcolor": "white",
             "linecolor": "white",
             "minorgridcolor": "white",
             "startlinecolor": "#2a3f5f"
            },
            "type": "carpet"
           }
          ],
          "choropleth": [
           {
            "colorbar": {
             "outlinewidth": 0,
             "ticks": ""
            },
            "type": "choropleth"
           }
          ],
          "contour": [
           {
            "colorbar": {
             "outlinewidth": 0,
             "ticks": ""
            },
            "colorscale": [
             [
              0,
              "#0d0887"
             ],
             [
              0.1111111111111111,
              "#46039f"
             ],
             [
              0.2222222222222222,
              "#7201a8"
             ],
             [
              0.3333333333333333,
              "#9c179e"
             ],
             [
              0.4444444444444444,
              "#bd3786"
             ],
             [
              0.5555555555555556,
              "#d8576b"
             ],
             [
              0.6666666666666666,
              "#ed7953"
             ],
             [
              0.7777777777777778,
              "#fb9f3a"
             ],
             [
              0.8888888888888888,
              "#fdca26"
             ],
             [
              1,
              "#f0f921"
             ]
            ],
            "type": "contour"
           }
          ],
          "contourcarpet": [
           {
            "colorbar": {
             "outlinewidth": 0,
             "ticks": ""
            },
            "type": "contourcarpet"
           }
          ],
          "heatmap": [
           {
            "colorbar": {
             "outlinewidth": 0,
             "ticks": ""
            },
            "colorscale": [
             [
              0,
              "#0d0887"
             ],
             [
              0.1111111111111111,
              "#46039f"
             ],
             [
              0.2222222222222222,
              "#7201a8"
             ],
             [
              0.3333333333333333,
              "#9c179e"
             ],
             [
              0.4444444444444444,
              "#bd3786"
             ],
             [
              0.5555555555555556,
              "#d8576b"
             ],
             [
              0.6666666666666666,
              "#ed7953"
             ],
             [
              0.7777777777777778,
              "#fb9f3a"
             ],
             [
              0.8888888888888888,
              "#fdca26"
             ],
             [
              1,
              "#f0f921"
             ]
            ],
            "type": "heatmap"
           }
          ],
          "heatmapgl": [
           {
            "colorbar": {
             "outlinewidth": 0,
             "ticks": ""
            },
            "colorscale": [
             [
              0,
              "#0d0887"
             ],
             [
              0.1111111111111111,
              "#46039f"
             ],
             [
              0.2222222222222222,
              "#7201a8"
             ],
             [
              0.3333333333333333,
              "#9c179e"
             ],
             [
              0.4444444444444444,
              "#bd3786"
             ],
             [
              0.5555555555555556,
              "#d8576b"
             ],
             [
              0.6666666666666666,
              "#ed7953"
             ],
             [
              0.7777777777777778,
              "#fb9f3a"
             ],
             [
              0.8888888888888888,
              "#fdca26"
             ],
             [
              1,
              "#f0f921"
             ]
            ],
            "type": "heatmapgl"
           }
          ],
          "histogram": [
           {
            "marker": {
             "pattern": {
              "fillmode": "overlay",
              "size": 10,
              "solidity": 0.2
             }
            },
            "type": "histogram"
           }
          ],
          "histogram2d": [
           {
            "colorbar": {
             "outlinewidth": 0,
             "ticks": ""
            },
            "colorscale": [
             [
              0,
              "#0d0887"
             ],
             [
              0.1111111111111111,
              "#46039f"
             ],
             [
              0.2222222222222222,
              "#7201a8"
             ],
             [
              0.3333333333333333,
              "#9c179e"
             ],
             [
              0.4444444444444444,
              "#bd3786"
             ],
             [
              0.5555555555555556,
              "#d8576b"
             ],
             [
              0.6666666666666666,
              "#ed7953"
             ],
             [
              0.7777777777777778,
              "#fb9f3a"
             ],
             [
              0.8888888888888888,
              "#fdca26"
             ],
             [
              1,
              "#f0f921"
             ]
            ],
            "type": "histogram2d"
           }
          ],
          "histogram2dcontour": [
           {
            "colorbar": {
             "outlinewidth": 0,
             "ticks": ""
            },
            "colorscale": [
             [
              0,
              "#0d0887"
             ],
             [
              0.1111111111111111,
              "#46039f"
             ],
             [
              0.2222222222222222,
              "#7201a8"
             ],
             [
              0.3333333333333333,
              "#9c179e"
             ],
             [
              0.4444444444444444,
              "#bd3786"
             ],
             [
              0.5555555555555556,
              "#d8576b"
             ],
             [
              0.6666666666666666,
              "#ed7953"
             ],
             [
              0.7777777777777778,
              "#fb9f3a"
             ],
             [
              0.8888888888888888,
              "#fdca26"
             ],
             [
              1,
              "#f0f921"
             ]
            ],
            "type": "histogram2dcontour"
           }
          ],
          "mesh3d": [
           {
            "colorbar": {
             "outlinewidth": 0,
             "ticks": ""
            },
            "type": "mesh3d"
           }
          ],
          "parcoords": [
           {
            "line": {
             "colorbar": {
              "outlinewidth": 0,
              "ticks": ""
             }
            },
            "type": "parcoords"
           }
          ],
          "pie": [
           {
            "automargin": true,
            "type": "pie"
           }
          ],
          "scatter": [
           {
            "fillpattern": {
             "fillmode": "overlay",
             "size": 10,
             "solidity": 0.2
            },
            "type": "scatter"
           }
          ],
          "scatter3d": [
           {
            "line": {
             "colorbar": {
              "outlinewidth": 0,
              "ticks": ""
             }
            },
            "marker": {
             "colorbar": {
              "outlinewidth": 0,
              "ticks": ""
             }
            },
            "type": "scatter3d"
           }
          ],
          "scattercarpet": [
           {
            "marker": {
             "colorbar": {
              "outlinewidth": 0,
              "ticks": ""
             }
            },
            "type": "scattercarpet"
           }
          ],
          "scattergeo": [
           {
            "marker": {
             "colorbar": {
              "outlinewidth": 0,
              "ticks": ""
             }
            },
            "type": "scattergeo"
           }
          ],
          "scattergl": [
           {
            "marker": {
             "colorbar": {
              "outlinewidth": 0,
              "ticks": ""
             }
            },
            "type": "scattergl"
           }
          ],
          "scattermapbox": [
           {
            "marker": {
             "colorbar": {
              "outlinewidth": 0,
              "ticks": ""
             }
            },
            "type": "scattermapbox"
           }
          ],
          "scatterpolar": [
           {
            "marker": {
             "colorbar": {
              "outlinewidth": 0,
              "ticks": ""
             }
            },
            "type": "scatterpolar"
           }
          ],
          "scatterpolargl": [
           {
            "marker": {
             "colorbar": {
              "outlinewidth": 0,
              "ticks": ""
             }
            },
            "type": "scatterpolargl"
           }
          ],
          "scatterternary": [
           {
            "marker": {
             "colorbar": {
              "outlinewidth": 0,
              "ticks": ""
             }
            },
            "type": "scatterternary"
           }
          ],
          "surface": [
           {
            "colorbar": {
             "outlinewidth": 0,
             "ticks": ""
            },
            "colorscale": [
             [
              0,
              "#0d0887"
             ],
             [
              0.1111111111111111,
              "#46039f"
             ],
             [
              0.2222222222222222,
              "#7201a8"
             ],
             [
              0.3333333333333333,
              "#9c179e"
             ],
             [
              0.4444444444444444,
              "#bd3786"
             ],
             [
              0.5555555555555556,
              "#d8576b"
             ],
             [
              0.6666666666666666,
              "#ed7953"
             ],
             [
              0.7777777777777778,
              "#fb9f3a"
             ],
             [
              0.8888888888888888,
              "#fdca26"
             ],
             [
              1,
              "#f0f921"
             ]
            ],
            "type": "surface"
           }
          ],
          "table": [
           {
            "cells": {
             "fill": {
              "color": "#EBF0F8"
             },
             "line": {
              "color": "white"
             }
            },
            "header": {
             "fill": {
              "color": "#C8D4E3"
             },
             "line": {
              "color": "white"
             }
            },
            "type": "table"
           }
          ]
         },
         "layout": {
          "annotationdefaults": {
           "arrowcolor": "#2a3f5f",
           "arrowhead": 0,
           "arrowwidth": 1
          },
          "autotypenumbers": "strict",
          "coloraxis": {
           "colorbar": {
            "outlinewidth": 0,
            "ticks": ""
           }
          },
          "colorscale": {
           "diverging": [
            [
             0,
             "#8e0152"
            ],
            [
             0.1,
             "#c51b7d"
            ],
            [
             0.2,
             "#de77ae"
            ],
            [
             0.3,
             "#f1b6da"
            ],
            [
             0.4,
             "#fde0ef"
            ],
            [
             0.5,
             "#f7f7f7"
            ],
            [
             0.6,
             "#e6f5d0"
            ],
            [
             0.7,
             "#b8e186"
            ],
            [
             0.8,
             "#7fbc41"
            ],
            [
             0.9,
             "#4d9221"
            ],
            [
             1,
             "#276419"
            ]
           ],
           "sequential": [
            [
             0,
             "#0d0887"
            ],
            [
             0.1111111111111111,
             "#46039f"
            ],
            [
             0.2222222222222222,
             "#7201a8"
            ],
            [
             0.3333333333333333,
             "#9c179e"
            ],
            [
             0.4444444444444444,
             "#bd3786"
            ],
            [
             0.5555555555555556,
             "#d8576b"
            ],
            [
             0.6666666666666666,
             "#ed7953"
            ],
            [
             0.7777777777777778,
             "#fb9f3a"
            ],
            [
             0.8888888888888888,
             "#fdca26"
            ],
            [
             1,
             "#f0f921"
            ]
           ],
           "sequentialminus": [
            [
             0,
             "#0d0887"
            ],
            [
             0.1111111111111111,
             "#46039f"
            ],
            [
             0.2222222222222222,
             "#7201a8"
            ],
            [
             0.3333333333333333,
             "#9c179e"
            ],
            [
             0.4444444444444444,
             "#bd3786"
            ],
            [
             0.5555555555555556,
             "#d8576b"
            ],
            [
             0.6666666666666666,
             "#ed7953"
            ],
            [
             0.7777777777777778,
             "#fb9f3a"
            ],
            [
             0.8888888888888888,
             "#fdca26"
            ],
            [
             1,
             "#f0f921"
            ]
           ]
          },
          "colorway": [
           "#636efa",
           "#EF553B",
           "#00cc96",
           "#ab63fa",
           "#FFA15A",
           "#19d3f3",
           "#FF6692",
           "#B6E880",
           "#FF97FF",
           "#FECB52"
          ],
          "font": {
           "color": "#2a3f5f"
          },
          "geo": {
           "bgcolor": "white",
           "lakecolor": "white",
           "landcolor": "#E5ECF6",
           "showlakes": true,
           "showland": true,
           "subunitcolor": "white"
          },
          "hoverlabel": {
           "align": "left"
          },
          "hovermode": "closest",
          "mapbox": {
           "style": "light"
          },
          "paper_bgcolor": "white",
          "plot_bgcolor": "#E5ECF6",
          "polar": {
           "angularaxis": {
            "gridcolor": "white",
            "linecolor": "white",
            "ticks": ""
           },
           "bgcolor": "#E5ECF6",
           "radialaxis": {
            "gridcolor": "white",
            "linecolor": "white",
            "ticks": ""
           }
          },
          "scene": {
           "xaxis": {
            "backgroundcolor": "#E5ECF6",
            "gridcolor": "white",
            "gridwidth": 2,
            "linecolor": "white",
            "showbackground": true,
            "ticks": "",
            "zerolinecolor": "white"
           },
           "yaxis": {
            "backgroundcolor": "#E5ECF6",
            "gridcolor": "white",
            "gridwidth": 2,
            "linecolor": "white",
            "showbackground": true,
            "ticks": "",
            "zerolinecolor": "white"
           },
           "zaxis": {
            "backgroundcolor": "#E5ECF6",
            "gridcolor": "white",
            "gridwidth": 2,
            "linecolor": "white",
            "showbackground": true,
            "ticks": "",
            "zerolinecolor": "white"
           }
          },
          "shapedefaults": {
           "line": {
            "color": "#2a3f5f"
           }
          },
          "ternary": {
           "aaxis": {
            "gridcolor": "white",
            "linecolor": "white",
            "ticks": ""
           },
           "baxis": {
            "gridcolor": "white",
            "linecolor": "white",
            "ticks": ""
           },
           "bgcolor": "#E5ECF6",
           "caxis": {
            "gridcolor": "white",
            "linecolor": "white",
            "ticks": ""
           }
          },
          "title": {
           "x": 0.05
          },
          "xaxis": {
           "automargin": true,
           "gridcolor": "white",
           "linecolor": "white",
           "ticks": "",
           "title": {
            "standoff": 15
           },
           "zerolinecolor": "white",
           "zerolinewidth": 2
          },
          "yaxis": {
           "automargin": true,
           "gridcolor": "white",
           "linecolor": "white",
           "ticks": "",
           "title": {
            "standoff": 15
           },
           "zerolinecolor": "white",
           "zerolinewidth": 2
          }
         }
        },
        "title": {
         "text": "Solana Momentum Score and Close Price Over Time"
        },
        "xaxis": {
         "anchor": "y",
         "domain": [
          0,
          0.94
         ]
        },
        "yaxis": {
         "anchor": "x",
         "domain": [
          0,
          1
         ],
         "title": {
          "text": "Momentum Score"
         }
        },
        "yaxis2": {
         "anchor": "x",
         "overlaying": "y",
         "side": "right",
         "title": {
          "text": "Close Price"
         }
        }
       }
      }
     },
     "metadata": {},
     "output_type": "display_data"
    }
   ],
   "source": [
    "# Create and display plot\n",
    "fig = plot_momentum_vs_price(df, DEFAULT_ASSET_ID)\n",
    "# Save visualization\n",
    "fig.write_html(OUTPUT_PLOT_FILEPATH)\n",
    "fig.show()\n",
    "\n",
    "# The output has been saved in `algotrade_sentiment/output/momentum_vs_price.png` to illustrate the resulting chart."
   ]
  },
  {
   "cell_type": "markdown",
   "metadata": {},
   "source": [
    "This concludes our tutorial on analyzing crypto sentiment and price data! We've covered how to:\n",
    "- Fetch and process news and market data\n",
    "- Calculate momentum and trend metrics\n",
    "- Visualize the relationship between sentiment and price movements\n",
    "\n",
    "Feel free to experiment with different visualization types, metrics, and analysis approaches. The possibilities are endless!\n",
    "\n"
   ]
  }
 ],
 "metadata": {
  "kernelspec": {
   "display_name": "cookbooks",
   "language": "python",
   "name": "python3"
  },
  "language_info": {
   "codemirror_mode": {
    "name": "ipython",
    "version": 3
   },
   "file_extension": ".py",
   "mimetype": "text/x-python",
   "name": "python",
   "nbconvert_exporter": "python",
   "pygments_lexer": "ipython3",
   "version": "3.11.3"
  }
 },
 "nbformat": 4,
 "nbformat_minor": 2
}
